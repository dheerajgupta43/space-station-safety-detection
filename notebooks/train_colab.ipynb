{
 "cells": [
  {
   "cell_type": "code",
   "execution_count": null,
   "id": "f1074215",
   "metadata": {},
   "outputs": [],
   "source": [
    "# Install dependencies\n",
    "!pip install -U pip\n",
    "!pip install ultralytics\n",
    "!pip install matplotlib opencv-python-headless pandas tqdm"
   ]
  },
  {
   "cell_type": "code",
   "execution_count": null,
   "id": "b08ae622",
   "metadata": {},
   "outputs": [],
   "source": [
    "# Mount Google Drive\n",
    "from google.colab import drive\n",
    "drive.mount(\"/content/drive\")"
   ]
  },
  {
   "cell_type": "code",
   "execution_count": null,
   "id": "91fc9978",
   "metadata": {},
   "outputs": [],
   "source": [
    "# Quick check for dataset\n",
    "import glob\n",
    "print(\"Train images:\", len(glob.glob(\"/content/drive/MyDrive/space_station_safety/dataset/train/images/*\")))\n",
    "print(\"Val images:\", len(glob.glob(\"/content/drive/MyDrive/space_station_safety/dataset/val/images/*\")))\n"
   ]
  },
  {
   "cell_type": "code",
   "execution_count": null,
   "id": "97dd7419",
   "metadata": {},
   "outputs": [],
   "source": [
    "# Create data/data.yaml file\n",
    "import os\n",
    "yaml_content = \"\"\"\n",
    "train: /content/drive/MyDrive/space_station_safety/dataset/train/images\n",
    "val:   /content/drive/MyDrive/space_station_safety/dataset/val/images\n",
    "\n",
    "nc: 7\n",
    "names: ['helmet', 'fire_extinguisher', 'first_aid', 'oxygen_mask', 'toolbox', 'gas_leak_detector', 'exit_sign']\n",
    "\"\"\"\n",
    "os.makedirs(\"data\", exist_ok=True)\n",
    "with open(\"data/data.yaml\",\"w\") as f:\n",
    "    f.write(yaml_content)\n",
    "print(open(\"data/data.yaml\").read())"
   ]
  },
  {
   "cell_type": "code",
   "execution_count": null,
   "id": "74a1ac6e",
   "metadata": {},
   "outputs": [],
   "source": [
    "# Train baseline (yolov8n)\n",
    "!yolo train model=yolov8n.pt data=data/data.yaml epochs=20 imgsz=640 batch=16 device=0"
   ]
  },
  {
   "cell_type": "code",
   "execution_count": null,
   "id": "7fd61a1f",
   "metadata": {},
   "outputs": [],
   "source": [
    "# Save weights to Drive\n",
    "!mkdir -p /content/drive/MyDrive/space_station_safety/artifacts\n",
    "!cp runs/detect/train/weights/best.pt /content/drive/MyDrive/space_station_safety/artifacts/best.pt\n",
    "!ls -lh /content/drive/MyDrive/space_station_safety/artifacts"
   ]
  },
  {
   "cell_type": "code",
   "execution_count": null,
   "id": "cfb3b9e6",
   "metadata": {},
   "outputs": [],
   "source": [
    "# Validate and save plots\n",
    "!yolo val model=/content/drive/MyDrive/space_station_safety/artifacts/best.pt data=data/data.yaml plots=True\n",
    "!cp -r runs/detect/val /content/drive/MyDrive/space_station_safety/val_results"
   ]
  },
  {
   "cell_type": "code",
   "execution_count": null,
   "id": "1364a91f",
   "metadata": {},
   "outputs": [],
   "source": [
    "# Predict on validation images\n",
    "!yolo predict model=/content/drive/MyDrive/space_station_safety/artifacts/best.pt source=/content/drive/MyDrive/space_station_safety/dataset/val/images save=True conf=0.25\n",
    "!mkdir -p /content/drive/MyDrive/space_station_safety/predictions\n",
    "!cp -r runs/detect/predict/* /content/drive/MyDrive/space_station_safety/predictions"
   ]
  },
  {
   "cell_type": "code",
   "execution_count": null,
   "id": "7f3f0b13",
   "metadata": {},
   "outputs": [],
   "source": [
    "# Export model to ONNX\n",
    "from ultralytics import YOLO\n",
    "model = YOLO(\"/content/drive/MyDrive/space_station_safety/artifacts/best.pt\")\n",
    "model.export(format=\"onnx\")\n",
    "!cp best.onnx /content/drive/MyDrive/space_station_safety/artifacts/"
   ]
  }
 ],
 "metadata": {
  "kernelspec": {
   "display_name": "Python 3",
   "name": "python3"
  },
  "language_info": {
   "name": "python"
  }
 },
 "nbformat": 4,
 "nbformat_minor": 5
}
